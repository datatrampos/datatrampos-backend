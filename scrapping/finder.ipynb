{
 "cells": [
  {
   "cell_type": "code",
   "execution_count": 1,
   "metadata": {},
   "outputs": [],
   "source": [
    "from urllib.request import urlopen\n",
    "from bs4 import BeautifulSoup\n",
    "import json"
   ]
  },
  {
   "cell_type": "code",
   "execution_count": 2,
   "metadata": {},
   "outputs": [],
   "source": [
    "list_of_interests = [\"BI\", \"Intelligence\", \"Python\", \"Data\", \"Dados\", \"Analysis\", \"Analytics\"]\n",
    "exceptions = [\"Sr\", \"Senior\", \"Pleno\", \"Sênior\", \"SR\"]\n",
    "with open('jobs.json') as file:\n",
    "    companies_list = json.load(file)\n",
    "\n",
    "gupy = companies_list[\"jobs_sources\"][\"gupy\"]\n",
    "kenoby = companies_list[\"jobs_sources\"][\"kenoby\"]\n",
    "greenhouse = companies_list[\"jobs_sources\"][\"greenhouse\"]\n",
    "gupy_res = {}\n",
    "kenoby_res = {}"
   ]
  },
  {
   "cell_type": "code",
   "execution_count": 3,
   "metadata": {},
   "outputs": [],
   "source": [
    "def get_from_gupy():\n",
    "    for item in gupy:\n",
    "        site = urlopen(item['website'])\n",
    "        bs = BeautifulSoup(site, 'html.parser')\n",
    "        bs = bs.find(\"div\",{'class':'job-list'})\n",
    "        table = bs.find(\"table\")\n",
    "        rows = table.find_all('tr')\n",
    "        cargos=[]\n",
    "        urls=[]\n",
    "        for row in rows:\n",
    "            data = row.find(\"h4\")\n",
    "            a = row.find(\"a\", href=True)\n",
    "            cargo = data.find(\"span\").text\n",
    "            for i in list_of_interests:\n",
    "                if i in cargo:\n",
    "                    if not any(e in cargo for e in exceptions):\n",
    "                        cargos.append(cargo)\n",
    "                        urls.append(item['website'] + a['href'])\n",
    "            \n",
    "        gupy_res[item['company_name']] = dict(zip(cargos,urls))\n",
    "        \n",
    "        print('Dados carregados de... ' + '\\033[1m' + item['company_name'] + '\\033[0m' )\n",
    "            \n",
    "    return gupy_res"
   ]
  },
  {
   "cell_type": "code",
   "execution_count": 4,
   "metadata": {},
   "outputs": [],
   "source": [
    "def get_from_kenoby():\n",
    "    for item in kenoby:\n",
    "        site = urlopen(item['website']+'/position')\n",
    "        bs = BeautifulSoup(site, 'html.parser')\n",
    "        bs = bs.find('div', {'id':'content'})\n",
    "        bs = bs.find_all('div',{'class':'segment'})\n",
    "        cargos = []\n",
    "        urls = []\n",
    "        for segment in bs:\n",
    "            position = segment.find('div',{'class':'positions'})\n",
    "            for a in position.find_all('a'):\n",
    "                cargo = a['data-title']\n",
    "                url = a['href']\n",
    "                for i in list_of_interests:\n",
    "                    if i in cargo:\n",
    "                        if not any(e in cargo for e in exceptions):\n",
    "                            cargos.append(cargo)\n",
    "                            urls.append(url)   \n",
    "                            \n",
    "        kenoby_res[item['company_name']] = dict(zip(cargos,urls))\n",
    "                \n",
    "        print('Dados carregados de... ' + '\\033[1m' + item['company_name'] + '\\033[0m' )\n",
    "        \n",
    "    return kenoby_res"
   ]
  },
  {
   "cell_type": "code",
   "execution_count": 11,
   "metadata": {},
   "outputs": [],
   "source": [
    "def execute(dict1, dict2):\n",
    "    print(dict1)\n",
    "    final_dict = dict1.update(dict2)\n",
    "    print(final_dict)\n",
    "    for key, item in final_dict.items():\n",
    "        print('\\033[1m' + key + '\\033[0m')\n",
    "        for  k,i in item.items():\n",
    "            print(k + ' - ' + i)"
   ]
  },
  {
   "cell_type": "code",
   "execution_count": 8,
   "metadata": {},
   "outputs": [
    {
     "name": "stdout",
     "output_type": "stream",
     "text": [
      "Dados carregados de... \u001b[1mAiqfome\u001b[0m\n",
      "Dados carregados de... \u001b[1mHilab\u001b[0m\n",
      "Dados carregados de... \u001b[1mMadeira Madeira\u001b[0m\n",
      "Dados carregados de... \u001b[1mPicpay\u001b[0m\n",
      "Dados carregados de... \u001b[1mEmCasa\u001b[0m\n",
      "Dados carregados de... \u001b[1mAmbev Tech\u001b[0m\n",
      "Dados carregados de... \u001b[1mHi Platform\u001b[0m\n",
      "Dados carregados de... \u001b[1mtembici\u001b[0m\n",
      "Dados carregados de... \u001b[1mTake Blip\u001b[0m\n",
      "Dados carregados de... \u001b[1mContabilizei\u001b[0m\n",
      "Dados carregados de... \u001b[1mDock\u001b[0m\n",
      "Dados carregados de... \u001b[1mGeek Hunter\u001b[0m\n",
      "Dados carregados de... \u001b[1mConexa Saúde\u001b[0m\n",
      "Dados carregados de... \u001b[1mOlist\u001b[0m\n",
      "Dados carregados de... \u001b[1mWarren Brasil\u001b[0m\n",
      "Dados carregados de... \u001b[1mMaxmilhas\u001b[0m\n",
      "Dados carregados de... \u001b[1mSoftplan\u001b[0m\n",
      "Dados carregados de... \u001b[1mExact Sales\u001b[0m\n",
      "Dados carregados de... \u001b[1mAsaas\u001b[0m\n",
      "Dados carregados de... \u001b[1mInvolves\u001b[0m\n",
      "Dados carregados de... \u001b[1mYuca\u001b[0m\n",
      "Dados carregados de... \u001b[1mXerpa\u001b[0m\n",
      "Dados carregados de... \u001b[1mIdwall\u001b[0m\n",
      "Dados carregados de... \u001b[1mKOIN\u001b[0m\n",
      "Dados carregados de... \u001b[1mCobli\u001b[0m\n"
     ]
    },
    {
     "ename": "AttributeError",
     "evalue": "'NoneType' object has no attribute 'items'",
     "output_type": "error",
     "traceback": [
      "\u001b[0;31m---------------------------------------------------------------------------\u001b[0m",
      "\u001b[0;31mAttributeError\u001b[0m                            Traceback (most recent call last)",
      "\u001b[0;32m<ipython-input-8-9defe76447b0>\u001b[0m in \u001b[0;36m<module>\u001b[0;34m\u001b[0m\n\u001b[1;32m      1\u001b[0m \u001b[0mgupy_results\u001b[0m \u001b[0;34m=\u001b[0m \u001b[0mget_from_gupy\u001b[0m\u001b[0;34m(\u001b[0m\u001b[0;34m)\u001b[0m\u001b[0;34m\u001b[0m\u001b[0;34m\u001b[0m\u001b[0m\n\u001b[1;32m      2\u001b[0m \u001b[0mkenoby_results\u001b[0m \u001b[0;34m=\u001b[0m \u001b[0mget_from_kenoby\u001b[0m\u001b[0;34m(\u001b[0m\u001b[0;34m)\u001b[0m\u001b[0;34m\u001b[0m\u001b[0;34m\u001b[0m\u001b[0m\n\u001b[0;32m----> 3\u001b[0;31m \u001b[0mexecute\u001b[0m\u001b[0;34m(\u001b[0m\u001b[0mgupy_results\u001b[0m\u001b[0;34m,\u001b[0m\u001b[0mkenoby_results\u001b[0m\u001b[0;34m)\u001b[0m\u001b[0;34m\u001b[0m\u001b[0;34m\u001b[0m\u001b[0m\n\u001b[0m",
      "\u001b[0;32m<ipython-input-7-831bf9931799>\u001b[0m in \u001b[0;36mexecute\u001b[0;34m(dict1, dict2)\u001b[0m\n\u001b[1;32m      1\u001b[0m \u001b[0;32mdef\u001b[0m \u001b[0mexecute\u001b[0m\u001b[0;34m(\u001b[0m\u001b[0mdict1\u001b[0m\u001b[0;34m,\u001b[0m \u001b[0mdict2\u001b[0m\u001b[0;34m)\u001b[0m\u001b[0;34m:\u001b[0m\u001b[0;34m\u001b[0m\u001b[0;34m\u001b[0m\u001b[0m\n\u001b[1;32m      2\u001b[0m     \u001b[0mfinal_dict\u001b[0m \u001b[0;34m=\u001b[0m \u001b[0mdict1\u001b[0m\u001b[0;34m.\u001b[0m\u001b[0mupdate\u001b[0m\u001b[0;34m(\u001b[0m\u001b[0mdict2\u001b[0m\u001b[0;34m)\u001b[0m\u001b[0;34m\u001b[0m\u001b[0;34m\u001b[0m\u001b[0m\n\u001b[0;32m----> 3\u001b[0;31m     \u001b[0;32mfor\u001b[0m \u001b[0mkey\u001b[0m\u001b[0;34m,\u001b[0m \u001b[0mitem\u001b[0m \u001b[0;32min\u001b[0m \u001b[0mfinal_dict\u001b[0m\u001b[0;34m.\u001b[0m\u001b[0mitems\u001b[0m\u001b[0;34m(\u001b[0m\u001b[0;34m)\u001b[0m\u001b[0;34m:\u001b[0m\u001b[0;34m\u001b[0m\u001b[0;34m\u001b[0m\u001b[0m\n\u001b[0m\u001b[1;32m      4\u001b[0m         \u001b[0mprint\u001b[0m\u001b[0;34m(\u001b[0m\u001b[0;34m'\\033[1m'\u001b[0m \u001b[0;34m+\u001b[0m \u001b[0mkey\u001b[0m \u001b[0;34m+\u001b[0m \u001b[0;34m'\\033[0m'\u001b[0m\u001b[0;34m)\u001b[0m\u001b[0;34m\u001b[0m\u001b[0;34m\u001b[0m\u001b[0m\n\u001b[1;32m      5\u001b[0m         \u001b[0;32mfor\u001b[0m  \u001b[0mk\u001b[0m\u001b[0;34m,\u001b[0m\u001b[0mi\u001b[0m \u001b[0;32min\u001b[0m \u001b[0mitem\u001b[0m\u001b[0;34m.\u001b[0m\u001b[0mitems\u001b[0m\u001b[0;34m(\u001b[0m\u001b[0;34m)\u001b[0m\u001b[0;34m:\u001b[0m\u001b[0;34m\u001b[0m\u001b[0;34m\u001b[0m\u001b[0m\n",
      "\u001b[0;31mAttributeError\u001b[0m: 'NoneType' object has no attribute 'items'"
     ]
    }
   ],
   "source": [
    "gupy_results = get_from_gupy()\n",
    "kenoby_results = get_from_kenoby()"
   ]
  },
  {
   "cell_type": "code",
   "execution_count": 12,
   "metadata": {},
   "outputs": [
    {
     "name": "stdout",
     "output_type": "stream",
     "text": [
      "{'Aiqfome': {}, 'Hilab': {'Cientista de Dados': 'https://hilab.gupy.io/jobs/652895?jobBoardSource=gupy_public_page', 'Engenheiro(a) de Dados': 'https://hilab.gupy.io/jobs/634086?jobBoardSource=gupy_public_page'}, 'Madeira Madeira': {'Analista de Business Intelligence JR': 'https://madeiracarreira.gupy.io/jobs/682449?jobBoardSource=gupy_public_page', 'Cientista de Dados PL': 'https://madeiracarreira.gupy.io/jobs/688311?jobBoardSource=gupy_public_page', 'Engenheiro(a) de Dados PL (Crawler)': 'https://madeiracarreira.gupy.io/jobs/688363?jobBoardSource=gupy_public_page', 'Especialista em Engenharia de Dados': 'https://madeiracarreira.gupy.io/jobs/505557?jobBoardSource=gupy_public_page', 'Estágio em Dados (Data Visualization)': 'https://madeiracarreira.gupy.io/jobs/710703?jobBoardSource=gupy_public_page'}, 'Picpay': {'Analista de Dados | Portfólio ': 'https://picpay.gupy.io/jobs/721034?jobBoardSource=gupy_public_page', 'Cientista de Dados  Júnior | Inteligência Artificial': 'https://picpay.gupy.io/jobs/635609?jobBoardSource=gupy_public_page', 'Data Engineer |  Data Pipelines': 'https://picpay.gupy.io/jobs/633125?jobBoardSource=gupy_public_page', 'Data Platform Engineer Specialist ': 'https://picpay.gupy.io/jobs/557184?jobBoardSource=gupy_public_page', 'Data Production Engineer | Data Pipelines': 'https://picpay.gupy.io/jobs/632859?jobBoardSource=gupy_public_page', 'Data Science Tech Lead | Credit': 'https://picpay.gupy.io/jobs/608411?jobBoardSource=gupy_public_page', 'Especialista de Dados | Portfólio': 'https://picpay.gupy.io/jobs/719237?jobBoardSource=gupy_public_page', 'Tech Manager | Data Engineer': 'https://picpay.gupy.io/jobs/719416?jobBoardSource=gupy_public_page'}, 'EmCasa': {'Estágio em Analytics': 'https://emcasa.gupy.io/jobs/747212?jobBoardSource=gupy_public_page'}, 'Ambev Tech': {'Analista de Business Intelligence| Presencial ': 'https://ambevtech.gupy.io/jobs/656269?jobBoardSource=gupy_public_page', 'Analytics Translator | Presencial ': 'https://ambevtech.gupy.io/jobs/656253?jobBoardSource=gupy_public_page', 'Cientista de Dados - Junior | Presencial ou Home Office': 'https://ambevtech.gupy.io/jobs/653620?jobBoardSource=gupy_public_page', 'Cientista de Dados| Presencial ': 'https://ambevtech.gupy.io/jobs/656208?jobBoardSource=gupy_public_page', 'Cientista de Dados |  Presencial': 'https://ambevtech.gupy.io/jobs/583361?jobBoardSource=gupy_public_page', 'Engenharia de Dados - Junior | Presencial ou Home Office': 'https://ambevtech.gupy.io/jobs/742333?jobBoardSource=gupy_public_page', 'Engenharia de Dados| Presencial ': 'https://ambevtech.gupy.io/jobs/656228?jobBoardSource=gupy_public_page', 'Engenharia de Dados |  Presencial': 'https://ambevtech.gupy.io/jobs/583383?jobBoardSource=gupy_public_page', 'Engenharia de Dados | Presencial ': 'https://ambevtech.gupy.io/jobs/739801?jobBoardSource=gupy_public_page', 'Engenheiro de Dados | Presencial ': 'https://ambevtech.gupy.io/jobs/719570?jobBoardSource=gupy_public_page', 'Especialista de Business Intelligence | Presencial ': 'https://ambevtech.gupy.io/jobs/719611?jobBoardSource=gupy_public_page'}, 'Hi Platform': {}, 'tembici': {'Engenheiro(a) de Dados': 'https://tembici.gupy.io/jobs/254214?jobBoardSource=gupy_public_page'}, 'Take Blip': {'Analytics engineer': 'https://takeblip.gupy.io/jobs/719382?jobBoardSource=gupy_public_page', 'Developer - Data & Analytics ': 'https://takeblip.gupy.io/jobs/717753?jobBoardSource=gupy_public_page'}, 'Contabilizei': {'Gerente de BI & Dados': 'https://contabilizei.gupy.io/jobs/584920?jobBoardSource=gupy_public_page'}, 'Dock': {'Data Analytics Junior | PLD | Data': 'https://dock.gupy.io/jobs/677869?jobBoardSource=gupy_public_page', 'Data Analytics  Specialist ': 'https://dock.gupy.io/jobs/663485?jobBoardSource=gupy_public_page', 'Data Engineer | Data': 'https://dock.gupy.io/jobs/736001?jobBoardSource=gupy_public_page', 'Especialista Data Analytics | Data': 'https://dock.gupy.io/jobs/658173?jobBoardSource=gupy_public_page', 'Lead Data Engineer | Data': 'https://dock.gupy.io/jobs/668508?jobBoardSource=gupy_public_page'}, 'Geek Hunter': {}, 'Conexa Saúde': {'Analista de BI ': 'https://docket.gupy.io/jobs/561731?jobBoardSource=gupy_public_page', 'Especialista de Web Analytics': 'https://docket.gupy.io/jobs/507094?jobBoardSource=gupy_public_page'}, 'Olist': {'Analista de Dados - Logística': 'https://olist.gupy.io/jobs/553386?jobBoardSource=gupy_public_page', 'Analista de Operações (Dados) ': 'https://olist.gupy.io/jobs/623164?jobBoardSource=gupy_public_page', ' Python Developer (Remote or Presential) ': 'https://olist.gupy.io/jobs/238003?jobBoardSource=gupy_public_page'}, 'Warren Brasil': {'Estágio - BI (Dados)': 'https://warrenbrasil.gupy.io/jobs/718630?jobBoardSource=gupy_public_page'}, 'Maxmilhas': {}, 'Softplan': {'Administrador de Banco de Dados III - Cód. 2033 (Segmento Gestão Pública)': 'https://jobs.kenoby.com/softplan/job/administrador-de-banco-de-dados-iii-cod-2033-segmento-gestao-publica/6012baa655697a27db90fb69?utm_source=website', 'Python Developer - Cód 2133 (Segmento Justiça)': 'https://jobs.kenoby.com/softplan/job/python-developer-cod-2133-segmento-justica/6037ffd4f46a76654fab22f0?utm_source=website'}, 'Exact Sales': {}, 'Asaas': {'Engenheiro de Dados': 'https://jobs.kenoby.com/asaas/job/engenheiro-de-dados/6021835a4b1550356b6be251?utm_source=website'}, 'Involves': {'Analista de Dados (Customer Operations)': 'https://jobs.kenoby.com/involves/job/analista-de-dados-customer-operations/604a690cf1dff8128b5003db?utm_source=website', 'Pessoa Analista de Dados (Sales Operations)': 'https://jobs.kenoby.com/involves/job/pessoa-analista-de-dados-sales-operations/6010656eb3061f5dd4c44c5e?utm_source=website', 'Pessoa Cientista de Dados I': 'https://jobs.kenoby.com/involves/job/pessoa-cientista-de-dados-i/6009eea688675c113f3ccb6c?utm_source=website', 'Pessoa Engenheira de Dados': 'https://jobs.kenoby.com/involves/job/pessoa-engenheira-de-dados/5f7244c76f62530f206d4c7c?utm_source=website'}, 'Yuca': {}, 'Xerpa': {}, 'Idwall': {'Customer Success Data and Performance Analyst': 'https://jobs.kenoby.com/idwall/job/customer-success-data-and-performance-analyst/601dbe14797a6977903da155?utm_source=website'}, 'KOIN': {}, 'Cobli': {}}\n",
      "None\n"
     ]
    },
    {
     "ename": "AttributeError",
     "evalue": "'NoneType' object has no attribute 'items'",
     "output_type": "error",
     "traceback": [
      "\u001b[0;31m---------------------------------------------------------------------------\u001b[0m",
      "\u001b[0;31mAttributeError\u001b[0m                            Traceback (most recent call last)",
      "\u001b[0;32m<ipython-input-12-684addacd607>\u001b[0m in \u001b[0;36m<module>\u001b[0;34m\u001b[0m\n\u001b[0;32m----> 1\u001b[0;31m \u001b[0mexecute\u001b[0m\u001b[0;34m(\u001b[0m\u001b[0mgupy_results\u001b[0m\u001b[0;34m,\u001b[0m\u001b[0mkenoby_results\u001b[0m\u001b[0;34m)\u001b[0m\u001b[0;34m\u001b[0m\u001b[0;34m\u001b[0m\u001b[0m\n\u001b[0m",
      "\u001b[0;32m<ipython-input-11-bce62d323ce5>\u001b[0m in \u001b[0;36mexecute\u001b[0;34m(dict1, dict2)\u001b[0m\n\u001b[1;32m      3\u001b[0m     \u001b[0mfinal_dict\u001b[0m \u001b[0;34m=\u001b[0m \u001b[0mdict1\u001b[0m\u001b[0;34m.\u001b[0m\u001b[0mupdate\u001b[0m\u001b[0;34m(\u001b[0m\u001b[0mdict2\u001b[0m\u001b[0;34m)\u001b[0m\u001b[0;34m\u001b[0m\u001b[0;34m\u001b[0m\u001b[0m\n\u001b[1;32m      4\u001b[0m     \u001b[0mprint\u001b[0m\u001b[0;34m(\u001b[0m\u001b[0mfinal_dict\u001b[0m\u001b[0;34m)\u001b[0m\u001b[0;34m\u001b[0m\u001b[0;34m\u001b[0m\u001b[0m\n\u001b[0;32m----> 5\u001b[0;31m     \u001b[0;32mfor\u001b[0m \u001b[0mkey\u001b[0m\u001b[0;34m,\u001b[0m \u001b[0mitem\u001b[0m \u001b[0;32min\u001b[0m \u001b[0mfinal_dict\u001b[0m\u001b[0;34m.\u001b[0m\u001b[0mitems\u001b[0m\u001b[0;34m(\u001b[0m\u001b[0;34m)\u001b[0m\u001b[0;34m:\u001b[0m\u001b[0;34m\u001b[0m\u001b[0;34m\u001b[0m\u001b[0m\n\u001b[0m\u001b[1;32m      6\u001b[0m         \u001b[0mprint\u001b[0m\u001b[0;34m(\u001b[0m\u001b[0;34m'\\033[1m'\u001b[0m \u001b[0;34m+\u001b[0m \u001b[0mkey\u001b[0m \u001b[0;34m+\u001b[0m \u001b[0;34m'\\033[0m'\u001b[0m\u001b[0;34m)\u001b[0m\u001b[0;34m\u001b[0m\u001b[0;34m\u001b[0m\u001b[0m\n\u001b[1;32m      7\u001b[0m         \u001b[0;32mfor\u001b[0m  \u001b[0mk\u001b[0m\u001b[0;34m,\u001b[0m\u001b[0mi\u001b[0m \u001b[0;32min\u001b[0m \u001b[0mitem\u001b[0m\u001b[0;34m.\u001b[0m\u001b[0mitems\u001b[0m\u001b[0;34m(\u001b[0m\u001b[0;34m)\u001b[0m\u001b[0;34m:\u001b[0m\u001b[0;34m\u001b[0m\u001b[0;34m\u001b[0m\u001b[0m\n",
      "\u001b[0;31mAttributeError\u001b[0m: 'NoneType' object has no attribute 'items'"
     ]
    }
   ],
   "source": [
    "execute(gupy_results,kenoby_results)"
   ]
  },
  {
   "cell_type": "code",
   "execution_count": null,
   "metadata": {},
   "outputs": [],
   "source": []
  }
 ],
 "metadata": {
  "kernelspec": {
   "display_name": "Python 3",
   "language": "python",
   "name": "python3"
  },
  "language_info": {
   "codemirror_mode": {
    "name": "ipython",
    "version": 3
   },
   "file_extension": ".py",
   "mimetype": "text/x-python",
   "name": "python",
   "nbconvert_exporter": "python",
   "pygments_lexer": "ipython3",
   "version": "3.6.9"
  }
 },
 "nbformat": 4,
 "nbformat_minor": 4
}
