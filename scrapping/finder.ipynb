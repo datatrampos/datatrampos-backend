{
 "cells": [
  {
   "cell_type": "code",
   "execution_count": 11,
   "metadata": {},
   "outputs": [],
   "source": [
    "from urllib.request import urlopen\n",
    "from bs4 import BeautifulSoup\n",
    "import json"
   ]
  },
  {
   "cell_type": "code",
   "execution_count": 12,
   "metadata": {},
   "outputs": [
    {
     "name": "stdout",
     "output_type": "stream",
     "text": [
      "[{'company_name': 'Aiqfome', 'website': 'https://aiqfome.gupy.io'}, {'company_name': 'Hilab', 'website': 'https://hilab.gupy.io'}, {'company_name': 'Madeira Madeira', 'website': 'https://madeiracarreira.gupy.io'}, {'company_name': 'Picpay', 'website': 'https://picpay.gupy.io'}, {'company_name': 'EmCasa', 'website': 'https://emcasa.gupy.io'}, {'company_name': 'Ambev Tech', 'website': 'https://ambevtech.gupy.io'}, {'company_name': 'Hi Platform', 'website': 'https://hiplatform.gupy.io'}, {'company_name': 'tembici', 'website': 'https://tembici.gupy.io'}, {'company_name': 'Take Blip', 'website': 'https://takeblip.gupy.io'}, {'company_name': 'Contabilizei', 'website': 'https://contabilizei.gupy.io'}, {'company_name': 'Dock', 'website': 'https://dock.gupy.io'}, {'company_name': 'Geek Hunter', 'website': 'https://geekhunter.gupy.io'}, {'company_name': 'Docket', 'website': 'https://docket.gupy.io'}, {'company_name': 'Conexa Saúde', 'website': 'https://conexasaude.gupy.io'}, {'company_name': 'Olist', 'website': 'https://olist.gupy.io'}, {'company_name': 'Warren Brasil', 'website': 'https://warrenbrasil.gupy.io'}, {'company_name': 'Maxmilhas', 'website': 'https://maxmilhas.gupy.io'}, {'company_name': 'Cortex', 'website': 'https://cortex.gupy.io'}, {'company_name': 'Superlógica', 'website': 'https://superlogica.gupy.io'}]\n",
      "[{'company_name': 'Guiabolso', 'website': 'https://jobs.kenoby.com/guiabolso'}, {'company_name': 'Softplan', 'website': 'https://jobs.kenoby.com/softplan'}, {'company_name': 'Exact Sales', 'website': 'https://jobs.kenoby.com/exactsales'}, {'company_name': 'Asaas', 'website': 'https://jobs.kenoby.com/asaas'}, {'company_name': 'Involves', 'website': 'https://jobs.kenoby.com/involves'}, {'company_name': 'Yuca', 'website': 'https://jobs.kenoby.com/yuca'}, {'company_name': 'Xerpa', 'website': 'https://jobs.kenoby.com/xerpa'}, {'company_name': 'Idwall', 'website': 'https://jobs.kenoby.com/idwall'}, {'company_name': 'KOIN', 'website': 'https://jobs.kenoby.com/koin'}, {'company_name': 'Cobli', 'website': 'https://jobs.kenoby.com/cobli'}, {'company_name': 'CargoX', 'website': 'https://jobs.kenoby.com/cargox'}, {'company_name': 'Conta Azul', 'website': 'https://jobs.kenoby.com/contaazul'}]\n"
     ]
    }
   ],
   "source": [
    "list_of_interests = [\"BI\", \"Intelligence\", \"Python\", \"Data\", \"Dados\", \"Analysis\", \"Analytics\"]\n",
    "exceptions = [\"Sr\", \"Senior\", \"Pleno\", \"Sênior\", \"SR\"]\n",
    "with open(r'jobs.json') as file:\n",
    "    companies_list = json.load(file)\n",
    "\n",
    "gupy = companies_list[\"jobs_sources\"][\"gupy\"]\n",
    "print(gupy)\n",
    "kenoby = companies_list[\"jobs_sources\"][\"kenoby\"]\n",
    "print(kenoby)\n",
    "greenhouse = companies_list[\"jobs_sources\"][\"greenhouse\"]\n",
    "gupy_res = {}\n",
    "kenoby_res = {}"
   ]
  },
  {
   "cell_type": "code",
   "execution_count": 13,
   "metadata": {},
   "outputs": [],
   "source": [
    "def get_from_gupy():\n",
    "    for item in gupy:\n",
    "        site = urlopen(item['website'])\n",
    "        bs = BeautifulSoup(site, 'html.parser')\n",
    "        bs = bs.find(\"div\",{'class':'job-list'})\n",
    "        table = bs.find(\"table\")\n",
    "        rows = table.find_all('tr')\n",
    "        cargos_gupy=[]\n",
    "        urls_gupy=[]\n",
    "        for row in rows:\n",
    "            data = row.find(\"h4\")\n",
    "            a = row.find(\"a\", href=True)\n",
    "            cargo = data.find(\"span\").text\n",
    "            for i in list_of_interests:\n",
    "                if i in cargo:\n",
    "                    if not any(e in cargo for e in exceptions):\n",
    "                        cargos_gupy.append(cargo)\n",
    "                        urls_gupy.append(item['website'] + a['href'])\n",
    "            \n",
    "        gupy_res[item['company_name']] = dict(zip(cargos_gupy,urls_gupy))\n",
    "        \n",
    "        print('Dados carregados de... ' + '\\033[1m' + item['company_name'] + '\\033[0m' )\n",
    "            \n",
    "    return gupy_res"
   ]
  },
  {
   "cell_type": "code",
   "execution_count": 14,
   "metadata": {},
   "outputs": [],
   "source": [
    "def get_from_kenoby():\n",
    "    for item in kenoby:\n",
    "        site = urlopen(item['website']+'/position')\n",
    "        bs = BeautifulSoup(site, 'html.parser')\n",
    "        bs = bs.find('div', {'id':'content'})\n",
    "        bs = bs.find_all('div',{'class':'segment'})\n",
    "        cargos_kenoby = []\n",
    "        urls_kenoby = []\n",
    "        for segment in bs:\n",
    "            position = segment.find('div',{'class':'positions'})\n",
    "            for a in position.find_all('a'):\n",
    "                cargo = a['data-title']\n",
    "                url = a['href']\n",
    "                for i in list_of_interests:\n",
    "                    if i in cargo:\n",
    "                        if not any(e in cargo for e in exceptions):\n",
    "                            cargos_kenoby.append(cargo)\n",
    "                            urls_kenoby.append(url)   \n",
    "                            \n",
    "        kenoby_res[item['company_name']] = dict(zip(cargos_kenoby,urls_kenoby))\n",
    "                \n",
    "        print('Dados carregados de... ' + '\\033[1m' + item['company_name'] + '\\033[0m' )\n",
    "        \n",
    "    return kenoby_res"
   ]
  },
  {
   "cell_type": "code",
   "execution_count": 15,
   "metadata": {},
   "outputs": [],
   "source": [
    "def show_results(job_dict):\n",
    "    for key, item in job_dict.items():\n",
    "        print('\\033[1m' + key + '\\033[0m')\n",
    "        for  k,i in item.items():\n",
    "            print(k + ' - ' + i)"
   ]
  },
  {
   "cell_type": "code",
   "execution_count": 16,
   "metadata": {},
   "outputs": [
    {
     "name": "stdout",
     "output_type": "stream",
     "text": [
      "Dados carregados de... \u001b[1mAiqfome\u001b[0m\n",
      "Dados carregados de... \u001b[1mHilab\u001b[0m\n",
      "Dados carregados de... \u001b[1mMadeira Madeira\u001b[0m\n",
      "Dados carregados de... \u001b[1mPicpay\u001b[0m\n",
      "Dados carregados de... \u001b[1mEmCasa\u001b[0m\n",
      "Dados carregados de... \u001b[1mAmbev Tech\u001b[0m\n",
      "Dados carregados de... \u001b[1mHi Platform\u001b[0m\n",
      "Dados carregados de... \u001b[1mtembici\u001b[0m\n",
      "Dados carregados de... \u001b[1mTake Blip\u001b[0m\n",
      "Dados carregados de... \u001b[1mContabilizei\u001b[0m\n",
      "Dados carregados de... \u001b[1mDock\u001b[0m\n",
      "Dados carregados de... \u001b[1mGeek Hunter\u001b[0m\n",
      "Dados carregados de... \u001b[1mDocket\u001b[0m\n",
      "Dados carregados de... \u001b[1mConexa Saúde\u001b[0m\n",
      "Dados carregados de... \u001b[1mOlist\u001b[0m\n",
      "Dados carregados de... \u001b[1mWarren Brasil\u001b[0m\n",
      "Dados carregados de... \u001b[1mMaxmilhas\u001b[0m\n",
      "Dados carregados de... \u001b[1mCortex\u001b[0m\n",
      "Dados carregados de... \u001b[1mSuperlógica\u001b[0m\n",
      "Dados carregados de... \u001b[1mGuiabolso\u001b[0m\n",
      "Dados carregados de... \u001b[1mSoftplan\u001b[0m\n",
      "Dados carregados de... \u001b[1mExact Sales\u001b[0m\n",
      "Dados carregados de... \u001b[1mAsaas\u001b[0m\n",
      "Dados carregados de... \u001b[1mInvolves\u001b[0m\n",
      "Dados carregados de... \u001b[1mYuca\u001b[0m\n",
      "Dados carregados de... \u001b[1mXerpa\u001b[0m\n",
      "Dados carregados de... \u001b[1mIdwall\u001b[0m\n",
      "Dados carregados de... \u001b[1mKOIN\u001b[0m\n",
      "Dados carregados de... \u001b[1mCobli\u001b[0m\n",
      "Dados carregados de... \u001b[1mCargoX\u001b[0m\n",
      "Dados carregados de... \u001b[1mConta Azul\u001b[0m\n"
     ]
    }
   ],
   "source": [
    "gupy_results = get_from_gupy()\n",
    "kenoby_results = get_from_kenoby()"
   ]
  },
  {
   "cell_type": "code",
   "execution_count": 17,
   "metadata": {},
   "outputs": [],
   "source": [
    "def execute(dict1, dict2):\n",
    "    show_results(dict1)\n",
    "    show_results(dict2)"
   ]
  },
  {
   "cell_type": "code",
   "execution_count": 18,
   "metadata": {},
   "outputs": [
    {
     "name": "stdout",
     "output_type": "stream",
     "text": [
      "\u001b[1mAiqfome\u001b[0m\n",
      "\u001b[1mHilab\u001b[0m\n",
      "Cientista de Dados - https://hilab.gupy.io/jobs/652895?jobBoardSource=gupy_public_page\n",
      "Engenheiro(a) de Dados - https://hilab.gupy.io/jobs/634086?jobBoardSource=gupy_public_page\n",
      "\u001b[1mMadeira Madeira\u001b[0m\n",
      "Analista de Business Intelligence JR - https://madeiracarreira.gupy.io/jobs/682449?jobBoardSource=gupy_public_page\n",
      "Cientista de Dados PL - https://madeiracarreira.gupy.io/jobs/688311?jobBoardSource=gupy_public_page\n",
      "Engenheiro(a) de Dados PL (Crawler) - https://madeiracarreira.gupy.io/jobs/688363?jobBoardSource=gupy_public_page\n",
      "Especialista em Engenharia de Dados - https://madeiracarreira.gupy.io/jobs/505557?jobBoardSource=gupy_public_page\n",
      "Estágio em Dados (Data Visualization) - https://madeiracarreira.gupy.io/jobs/710703?jobBoardSource=gupy_public_page\n",
      "\u001b[1mPicpay\u001b[0m\n",
      "Analista de Dados | Portfólio  - https://picpay.gupy.io/jobs/721034?jobBoardSource=gupy_public_page\n",
      "Cientista de Dados  Júnior | Inteligência Artificial - https://picpay.gupy.io/jobs/635609?jobBoardSource=gupy_public_page\n",
      "Data Engineer |  Data Pipelines - https://picpay.gupy.io/jobs/633125?jobBoardSource=gupy_public_page\n",
      "Data Platform Engineer Specialist  - https://picpay.gupy.io/jobs/557184?jobBoardSource=gupy_public_page\n",
      "Data Production Engineer | Data Pipelines - https://picpay.gupy.io/jobs/632859?jobBoardSource=gupy_public_page\n",
      "Data Science Tech Lead | Credit - https://picpay.gupy.io/jobs/608411?jobBoardSource=gupy_public_page\n",
      "Especialista de Dados | Portfólio - https://picpay.gupy.io/jobs/719237?jobBoardSource=gupy_public_page\n",
      "Tech Manager | Data Engineer - https://picpay.gupy.io/jobs/719416?jobBoardSource=gupy_public_page\n",
      "\u001b[1mEmCasa\u001b[0m\n",
      "Estágio em Analytics - https://emcasa.gupy.io/jobs/747212?jobBoardSource=gupy_public_page\n",
      "\u001b[1mAmbev Tech\u001b[0m\n",
      "Analista de Business Intelligence| Presencial  - https://ambevtech.gupy.io/jobs/656269?jobBoardSource=gupy_public_page\n",
      "Analytics Translator | Presencial  - https://ambevtech.gupy.io/jobs/656253?jobBoardSource=gupy_public_page\n",
      "Cientista de Dados - Junior | Presencial ou Home Office - https://ambevtech.gupy.io/jobs/653620?jobBoardSource=gupy_public_page\n",
      "Cientista de Dados| Presencial  - https://ambevtech.gupy.io/jobs/656208?jobBoardSource=gupy_public_page\n",
      "Cientista de Dados |  Presencial - https://ambevtech.gupy.io/jobs/583361?jobBoardSource=gupy_public_page\n",
      "Engenharia de Dados - Junior | Presencial ou Home Office - https://ambevtech.gupy.io/jobs/742333?jobBoardSource=gupy_public_page\n",
      "Engenharia de Dados| Presencial  - https://ambevtech.gupy.io/jobs/656228?jobBoardSource=gupy_public_page\n",
      "Engenharia de Dados |  Presencial - https://ambevtech.gupy.io/jobs/583387?jobBoardSource=gupy_public_page\n",
      "Engenharia de Dados | Presencial  - https://ambevtech.gupy.io/jobs/739801?jobBoardSource=gupy_public_page\n",
      "Engenheiro de Dados | Presencial  - https://ambevtech.gupy.io/jobs/719570?jobBoardSource=gupy_public_page\n",
      "Especialista de Business Intelligence | Presencial  - https://ambevtech.gupy.io/jobs/719611?jobBoardSource=gupy_public_page\n",
      "\u001b[1mHi Platform\u001b[0m\n",
      "\u001b[1mtembici\u001b[0m\n",
      "Engenheiro(a) de Dados - https://tembici.gupy.io/jobs/254214?jobBoardSource=gupy_public_page\n",
      "\u001b[1mTake Blip\u001b[0m\n",
      "Analytics engineer - https://takeblip.gupy.io/jobs/719382?jobBoardSource=gupy_public_page\n",
      "Developer - Data & Analytics  - https://takeblip.gupy.io/jobs/717753?jobBoardSource=gupy_public_page\n",
      "\u001b[1mContabilizei\u001b[0m\n",
      "Gerente de BI & Dados - https://contabilizei.gupy.io/jobs/584920?jobBoardSource=gupy_public_page\n",
      "\u001b[1mDock\u001b[0m\n",
      "Data Analytics Junior | PLD | Data - https://dock.gupy.io/jobs/677869?jobBoardSource=gupy_public_page\n",
      "Data Analytics  Specialist  - https://dock.gupy.io/jobs/663485?jobBoardSource=gupy_public_page\n",
      "Data Engineer | Data - https://dock.gupy.io/jobs/736001?jobBoardSource=gupy_public_page\n",
      "Especialista Data Analytics | Data - https://dock.gupy.io/jobs/658173?jobBoardSource=gupy_public_page\n",
      "Lead Data Engineer | Data - https://dock.gupy.io/jobs/668508?jobBoardSource=gupy_public_page\n",
      "\u001b[1mGeek Hunter\u001b[0m\n",
      "\u001b[1mDocket\u001b[0m\n",
      "Analista de BI  - https://docket.gupy.io/jobs/561731?jobBoardSource=gupy_public_page\n",
      "Especialista de Web Analytics - https://docket.gupy.io/jobs/507094?jobBoardSource=gupy_public_page\n",
      "\u001b[1mConexa Saúde\u001b[0m\n",
      "\u001b[1mOlist\u001b[0m\n",
      "Analista de Dados - Logística - https://olist.gupy.io/jobs/553386?jobBoardSource=gupy_public_page\n",
      "Analista de Operações (Dados)  - https://olist.gupy.io/jobs/623164?jobBoardSource=gupy_public_page\n",
      " Python Developer (Remote or Presential)  - https://olist.gupy.io/jobs/238003?jobBoardSource=gupy_public_page\n",
      "\u001b[1mWarren Brasil\u001b[0m\n",
      "Estágio - BI (Dados) - https://warrenbrasil.gupy.io/jobs/718630?jobBoardSource=gupy_public_page\n",
      "\u001b[1mMaxmilhas\u001b[0m\n",
      "\u001b[1mCortex\u001b[0m\n",
      "PR Intelligence Analyst | Customer Success - https://cortex.gupy.io/jobs/665028?jobBoardSource=gupy_public_page\n",
      "\u001b[1mSuperlógica\u001b[0m\n",
      "\u001b[1mGuiabolso\u001b[0m\n",
      "Data Analyst JR - https://jobs.kenoby.com/guiabolso/job/data-analyst-jr/6025ad3e8d1b880c78b073db?utm_source=website\n",
      "\u001b[1mSoftplan\u001b[0m\n",
      "Administrador de Banco de Dados III - Cód. 2033 (Segmento Gestão Pública) - https://jobs.kenoby.com/softplan/job/administrador-de-banco-de-dados-iii-cod-2033-segmento-gestao-publica/6012baa655697a27db90fb69?utm_source=website\n",
      "Python Developer - Cód 2133 (Segmento Justiça) - https://jobs.kenoby.com/softplan/job/python-developer-cod-2133-segmento-justica/6037ffd4f46a76654fab22f0?utm_source=website\n",
      "\u001b[1mExact Sales\u001b[0m\n",
      "\u001b[1mAsaas\u001b[0m\n",
      "Engenheiro de Dados - https://jobs.kenoby.com/asaas/job/engenheiro-de-dados/6021835a4b1550356b6be251?utm_source=website\n",
      "\u001b[1mInvolves\u001b[0m\n",
      "Analista de Dados (Customer Operations) - https://jobs.kenoby.com/involves/job/analista-de-dados-customer-operations/604a690cf1dff8128b5003db?utm_source=website\n",
      "Pessoa Analista de Dados (Sales Operations) - https://jobs.kenoby.com/involves/job/pessoa-analista-de-dados-sales-operations/6010656eb3061f5dd4c44c5e?utm_source=website\n",
      "Pessoa Cientista de Dados I - https://jobs.kenoby.com/involves/job/pessoa-cientista-de-dados-i/6009eea688675c113f3ccb6c?utm_source=website\n",
      "Pessoa Engenheira de Dados - https://jobs.kenoby.com/involves/job/pessoa-engenheira-de-dados/5f7244c76f62530f206d4c7c?utm_source=website\n",
      "\u001b[1mYuca\u001b[0m\n",
      "\u001b[1mXerpa\u001b[0m\n",
      "\u001b[1mIdwall\u001b[0m\n",
      "\u001b[1mKOIN\u001b[0m\n",
      "\u001b[1mCobli\u001b[0m\n",
      "\u001b[1mCargoX\u001b[0m\n",
      "\u001b[1mConta Azul\u001b[0m\n",
      "Analista de Governança de Dados - https://jobs.kenoby.com/contaazul/job/analista-de-governanca-de-dados/60242c8fabff083ef2786046?utm_source=website\n"
     ]
    }
   ],
   "source": [
    "execute(gupy_results,kenoby_results)"
   ]
  },
  {
   "cell_type": "code",
   "execution_count": null,
   "metadata": {},
   "outputs": [],
   "source": []
  }
 ],
 "metadata": {
  "kernelspec": {
   "display_name": "Python 3",
   "language": "python",
   "name": "python3"
  },
  "language_info": {
   "codemirror_mode": {
    "name": "ipython",
    "version": 3
   },
   "file_extension": ".py",
   "mimetype": "text/x-python",
   "name": "python",
   "nbconvert_exporter": "python",
   "pygments_lexer": "ipython3",
   "version": "3.6.9"
  }
 },
 "nbformat": 4,
 "nbformat_minor": 4
}
