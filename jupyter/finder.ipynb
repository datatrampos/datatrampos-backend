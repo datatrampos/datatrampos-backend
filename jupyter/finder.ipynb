{
 "cells": [
  {
   "cell_type": "code",
   "execution_count": 1,
   "id": "looking-ambassador",
   "metadata": {},
   "outputs": [],
   "source": [
    "from urllib.request import urlopen\n",
    "from bs4 import BeautifulSoup\n",
    "import json\n",
    "import pandas as pd"
   ]
  },
  {
   "cell_type": "code",
   "execution_count": 2,
   "id": "fewer-glance",
   "metadata": {},
   "outputs": [],
   "source": [
    "list_of_interests = [\"BI\", \"Business Intelligence\", \"Python\", \"Data\", \"Dados\", \"Analysis\", \"Data Analyst\", \"Analytics\",\"Machine Learning\"]\n",
    "exceptions = []\n",
    "with open(r'jobs.json') as file:\n",
    "    companies_list = json.load(file)\n",
    "\n",
    "gupy = companies_list[\"jobs_sources\"][\"gupy\"]\n",
    "kenoby = companies_list[\"jobs_sources\"][\"kenoby\"]\n",
    "greenhouse = companies_list[\"jobs_sources\"][\"greenhouse\"]\n",
    "lever = companies_list[\"jobs_sources\"][\"lever\"]\n",
    "gupy_res = []\n",
    "kenoby_res = []\n",
    "greenhouse_res = []\n",
    "lever_res = []"
   ]
  },
  {
   "cell_type": "code",
   "execution_count": 5,
   "id": "weighted-throw",
   "metadata": {},
   "outputs": [],
   "source": [
    "def get_from_gupy():\n",
    "    for item in gupy:\n",
    "        site = urlopen(item['website'])\n",
    "        bs = BeautifulSoup(site, 'html.parser')\n",
    "        bs = bs.find(\"div\",{'class':'job-list'})\n",
    "        table = bs.find(\"table\")\n",
    "        rows = table.find_all('tr')\n",
    "        jobs = []\n",
    "        for row in rows:\n",
    "            data = row.find(\"h4\")\n",
    "            a = row.find(\"a\", href=True)\n",
    "            cargo = data.find(\"span\").text\n",
    "            for i in list_of_interests:\n",
    "                if i in cargo:\n",
    "                    if not any(e in cargo for e in exceptions):\n",
    "                        jobs.append({'title':cargo,'url':item['website'] + a['href']})\n",
    "            \n",
    "        gupy_res.append({'company_name':item['company_name'],'jobs':jobs})\n",
    "        \n",
    "        print('Dados carregados de... ' + '\\033[1m' + item['company_name'] + '\\033[0m' )\n",
    "            \n",
    "    return gupy_res"
   ]
  },
  {
   "cell_type": "code",
   "execution_count": 47,
   "id": "normal-education",
   "metadata": {},
   "outputs": [],
   "source": [
    "def get_from_kenoby():\n",
    "    for item in kenoby:\n",
    "        site = urlopen(item['website']+'/position')\n",
    "        bs = BeautifulSoup(site, 'html.parser')\n",
    "        bs = bs.find('div', {'id':'content'})\n",
    "        bs = bs.find_all('div',{'class':'segment'})\n",
    "        jobs=[]\n",
    "        for segment in bs:\n",
    "            position = segment.find('div',{'class':'positions'})\n",
    "            for a in position.find_all('a'):\n",
    "                cargo = a['data-title']\n",
    "                url = a['href']\n",
    "                for i in list_of_interests:\n",
    "                    if i in cargo:\n",
    "                        if not any(e in cargo for e in exceptions):\n",
    "                            jobs.append({'title':cargo,'url':url}) \n",
    "                            \n",
    "        kenoby_res.append({'company_name':item['company_name'],'jobs':jobs})\n",
    "                \n",
    "        print('Dados carregados de... ' + '\\033[1m' + item['company_name'] + '\\033[0m' )\n",
    "        \n",
    "    return kenoby_res"
   ]
  },
  {
   "cell_type": "code",
   "execution_count": 48,
   "id": "choice-recruitment",
   "metadata": {},
   "outputs": [],
   "source": [
    "def get_from_greenhouse():\n",
    "    for item in greenhouse:\n",
    "        site = urlopen(item['website'])\n",
    "        bs = BeautifulSoup(site, 'html.parser')\n",
    "        bs = bs.find('div', {'id':'main'})\n",
    "        sections = bs.find_all('section',{'class':'level-0'})\n",
    "        jobs=[]\n",
    "        for section in sections:\n",
    "            positions = section.find_all('div')\n",
    "            for job in positions:\n",
    "                a = job.find('a', href=True)\n",
    "                cargo = a.text\n",
    "                url = a['href']\n",
    "                for i in list_of_interests:\n",
    "                    if i in cargo:\n",
    "                        if not any(e in cargo for e in exceptions):\n",
    "                            jobs.append({'title':cargo,'url':'https://boards.greenhouse.io' + url})\n",
    "                            \n",
    "        greenhouse_res.append({'company_name':item['company_name'],'jobs':jobs})\n",
    "                \n",
    "        print('Dados carregados de... ' + '\\033[1m' + item['company_name'] + '\\033[0m' )\n",
    "        \n",
    "    return greenhouse_res"
   ]
  },
  {
   "cell_type": "code",
   "execution_count": 49,
   "id": "romantic-merchandise",
   "metadata": {},
   "outputs": [],
   "source": [
    "def get_from_lever():\n",
    "    for item in lever:\n",
    "        site = urlopen(item['website'])\n",
    "        bs = BeautifulSoup(site, 'html.parser')\n",
    "        bs = bs.find('div', {'class':'postings-wrapper'})\n",
    "        sections = bs.find_all('div',{'class':'postings-group'})\n",
    "        jobs = []\n",
    "        for section in sections:\n",
    "            positions = section.find_all('div',{'class':'posting'})\n",
    "            for job in positions:\n",
    "                a = job.find('a',{'class':'posting-title'}, href = True)\n",
    "                cargo = a.find('h5').text\n",
    "                url = a['href']\n",
    "                for i in list_of_interests:\n",
    "                        if i in cargo:\n",
    "                            if not any(e in cargo for e in exceptions):\n",
    "                                    jobs.append({'title':cargo,'url':url})\n",
    "        lever_res.append({'company_name':item['company_name'],'jobs':jobs})\n",
    "    \n",
    "        print('Dados carregados de... ' + '\\033[1m' + item['company_name'] + '\\033[0m' )\n",
    "    \n",
    "    return lever_res             "
   ]
  },
  {
   "cell_type": "code",
   "execution_count": 4,
   "id": "enclosed-buddy",
   "metadata": {},
   "outputs": [],
   "source": [
    "with open('JOB_DATA.json', 'w') as fp:\n",
    "    json.dump(gupy_res, fp)"
   ]
  },
  {
   "cell_type": "code",
   "execution_count": 3,
   "id": "prostate-climate",
   "metadata": {},
   "outputs": [],
   "source": [
    "for item in gupy:\n",
    "    site = urlopen(item['website'])\n",
    "    bs = BeautifulSoup(site, 'html.parser')\n",
    "    bs = bs.find(\"div\",{'class':'job-list'})\n",
    "    table = bs.find(\"table\")\n",
    "    rows = table.find_all('tr')\n",
    "    jobs = []\n",
    "    for row in rows:\n",
    "        workplace = row['data-workplace']\n",
    "        remote = row['data-remote']\n",
    "        data = row.find(\"h4\")\n",
    "        a = row.find(\"a\", href=True)\n",
    "        cargo = data.find(\"span\").text\n",
    "        for i in list_of_interests:\n",
    "            if i in cargo:\n",
    "                if not any(e in cargo for e in exceptions):\n",
    "                    jobs.append({'title':cargo,'url':item['website'] + a['href'],'remote':remote,'workplace':workplace})\n",
    "\n",
    "    gupy_res.append({'company_name':item['company_name'],'jobs':jobs})"
   ]
  },
  {
   "cell_type": "code",
   "execution_count": null,
   "id": "intensive-signal",
   "metadata": {},
   "outputs": [],
   "source": []
  }
 ],
 "metadata": {
  "kernelspec": {
   "display_name": "Python 3",
   "language": "python",
   "name": "python3"
  },
  "language_info": {
   "codemirror_mode": {
    "name": "ipython",
    "version": 3
   },
   "file_extension": ".py",
   "mimetype": "text/x-python",
   "name": "python",
   "nbconvert_exporter": "python",
   "pygments_lexer": "ipython3",
   "version": "3.6.9"
  }
 },
 "nbformat": 4,
 "nbformat_minor": 5
}
