{
 "cells": [
  {
   "cell_type": "code",
   "execution_count": 1,
   "id": "1a9210b3",
   "metadata": {},
   "outputs": [
    {
     "name": "stderr",
     "output_type": "stream",
     "text": [
      "/home/luisfarias/Documents/datatrampos/datatrampos-backend/venv/lib/python3.10/site-packages/requests/__init__.py:102: RequestsDependencyWarning: urllib3 (1.26.9) or chardet (5.0.0)/charset_normalizer (2.0.12) doesn't match a supported version!\n",
      "  warnings.warn(\"urllib3 ({}) or chardet ({})/charset_normalizer ({}) doesn't match a supported \"\n"
     ]
    }
   ],
   "source": [
    "from urllib.request import urlopen\n",
    "import requests\n",
    "from bs4 import BeautifulSoup\n",
    "import json\n",
    "import re"
   ]
  },
  {
   "cell_type": "code",
   "execution_count": 2,
   "id": "ea806854",
   "metadata": {},
   "outputs": [],
   "source": [
    "list_of_interests = [\"BI\",\"Database\", \"Business Intelligence\", \"Python\", \"Data\", \"Dados\", \"Analysis\", \"Data Analyst\", \"Analytics\",\"Machine Learning\"]\n",
    "#list_of_interests = [\"Frontend\", \"React\", \"ReactJS\", \"ReactJs\", \"Front\", \"Web\", \"Next\", \"NextJS\", \"Python\", \"Django\"]\n",
    "exceptions = []\n",
    "with open(r'companies.json') as file:\n",
    "    companies_list = json.load(file)\n",
    "greenhouse = companies_list['jobs_sources']['greenhouse']\n",
    "gupy = companies_list['jobs_sources']['gupy']\n",
    "kenoby = companies_list['jobs_sources']['kenoby']\n",
    "lever = companies_list['jobs_sources']['lever']\n",
    "gupy_res = []\n",
    "kenoby_res = []\n",
    "greenhouse_res = []\n",
    "lever_res = []"
   ]
  },
  {
   "cell_type": "code",
   "execution_count": 3,
   "id": "f5198e45",
   "metadata": {},
   "outputs": [],
   "source": [
    "def get_from_gupy():\n",
    "    for item in gupy:\n",
    "        site = urlopen(item['website'])\n",
    "        bs = BeautifulSoup(site, 'html.parser')\n",
    "        bs = bs.find(\"div\",{'class':'job-list'})\n",
    "        table = bs.find(\"table\")\n",
    "        rows = table.find_all('tr')\n",
    "        jobs = []\n",
    "        for row in rows:\n",
    "            data = row.find(\"h4\")\n",
    "            a = row.find(\"a\", href=True)\n",
    "            cargo = data.find(\"span\").text\n",
    "            for i in gabi:\n",
    "                if i in cargo:\n",
    "                    if not any(e in cargo for e in exceptions):\n",
    "                        jobs.append({'title':cargo,'url':item['website'] + a['href']})\n",
    "            \n",
    "        gupy_res.append({'company_name':item['company_name'],'jobs':jobs})\n",
    "        \n",
    "        print('Dados carregados de... ' + '\\033[1m' + item['company_name'] + '\\033[0m' )\n",
    "            \n",
    "    return gupy_res"
   ]
  },
  {
   "cell_type": "code",
   "execution_count": 4,
   "id": "564a1b03",
   "metadata": {},
   "outputs": [],
   "source": [
    "def get_from_kenoby():\n",
    "    for item in kenoby:\n",
    "        site = urlopen(item['website']+'/position')\n",
    "        bs = BeautifulSoup(site, 'html.parser')\n",
    "        bs = bs.find('div', {'id':'content'})\n",
    "        bs = bs.find_all('div',{'class':'segment'})\n",
    "        jobs=[]\n",
    "        for segment in bs:\n",
    "            position = segment.find('div',{'class':'positions'})\n",
    "            for a in position.find_all('a'):\n",
    "                cargo = a['data-title']\n",
    "                url = a['href']\n",
    "                for i in list_of_interests:\n",
    "                    if i in cargo:\n",
    "                        if not any(e in cargo for e in exceptions):\n",
    "                            jobs.append({'title':cargo,'url':url}) \n",
    "                            \n",
    "        kenoby_res.append({'company_name':item['company_name'],'jobs':jobs})\n",
    "                \n",
    "        print('Dados carregados de... ' + '\\033[1m' + item['company_name'] + '\\033[0m' )\n",
    "        \n",
    "    return kenoby_res"
   ]
  },
  {
   "cell_type": "code",
   "execution_count": 6,
   "id": "fce60e7b",
   "metadata": {},
   "outputs": [],
   "source": [
    "def get_from_greenhouse():\n",
    "    for item in greenhouse:\n",
    "        site = urlopen(item['website'])\n",
    "        bs = BeautifulSoup(site, 'html.parser')\n",
    "        bs = bs.find('div', {'id':'main'})\n",
    "        sections = bs.find_all('section',{'class':'level-0'})\n",
    "        jobs=[]\n",
    "        for section in sections:\n",
    "            positions = section.find_all('div')\n",
    "            for job in positions:\n",
    "                a = job.find('a', href=True)\n",
    "                cargo = a.text\n",
    "                url = a['href']\n",
    "                for i in list_of_interests:\n",
    "                    if i in cargo:\n",
    "                        if not any(e in cargo for e in exceptions):\n",
    "                            jobs.append({'title':cargo,'url':'https://boards.greenhouse.io' + url})\n",
    "                            \n",
    "        greenhouse_res.append({'company_name':item['company_name'],'jobs':jobs})\n",
    "                \n",
    "        print('Dados carregados de... ' + '\\033[1m' + item['company_name'] + '\\033[0m' )\n",
    "        \n",
    "    return greenhouse_res"
   ]
  },
  {
   "cell_type": "code",
   "execution_count": 22,
   "id": "ee2f4649",
   "metadata": {},
   "outputs": [],
   "source": [
    "def get_from_lever():\n",
    "    for item in lever:\n",
    "        print (item)\n",
    "        site = urlopen(item['website'])\n",
    "        bs = BeautifulSoup(site, 'html.parser')\n",
    "        bs = bs.find('div', {'class':'postings-wrapper'})\n",
    "        sections = bs.find_all('div',{'class':'postings-group'})\n",
    "        jobs = []\n",
    "        for section in sections:\n",
    "            positions = section.find_all('div',{'class':'posting'})\n",
    "            for job in positions:\n",
    "                a = job.find('a',{'class':'posting-title'}, href = True)\n",
    "                cargo = a.find('h5').text\n",
    "                url = a['href']\n",
    "                for i in list_of_interests:\n",
    "                        if i in cargo:\n",
    "                            if not any(e in cargo for e in exceptions):\n",
    "                                    jobs.append({'title':cargo,'url':url})\n",
    "        lever_res.append({'company_name':item['company_name'],'jobs':jobs})\n",
    "    \n",
    "        print('Dados carregados de... ' + '\\033[1m' + item['company_name'] + '\\033[0m' )\n",
    "    \n",
    "    return lever_res             "
   ]
  },
  {
   "cell_type": "code",
   "execution_count": 5,
   "id": "7f8c86af",
   "metadata": {},
   "outputs": [],
   "source": [
    "with open('JOB_DATA.json', 'w') as fp:\n",
    "    json.dump(gupy_res, fp)"
   ]
  },
  {
   "cell_type": "code",
   "execution_count": 84,
   "id": "39e586f4",
   "metadata": {},
   "outputs": [
    {
     "name": "stdout",
     "output_type": "stream",
     "text": [
      "{'id': 277, 'companyId': 343, 'name': 'aiqfome', 'publicationName': None, 'subdomain': 'aiqfome', 'visibility': 'public', 'companySubdomain': 'aiqfome', 'urlLogo': 'https://s3.amazonaws.com/gupy5/production/companies/343/career/277/images/logo.png', 'urlMainImage': 'https://s3.amazonaws.com/gupy5/production/companies/343/career/277/images/2022-11-22_18-02_mainImage.png', 'socialDescription': 'Essa é a página de carreira do aiqfome, feita exclusivamente pra quem nunca se encaixou em empresas tradicionais. Dá uma olhadinha ;)', 'socialTitle': 'sejaumfomer', 'socialPictureUrl': 'https://s3.amazonaws.com/gupy5/production/socialmedias/343/a173f5bca0bd2c7e070e8ca3311d088d_capa-gupy_1200x627.png', 'about': '<p>Atenção! Você tá entrando no território sagrado dos desajustados: aqueles que nunca tiveram espaço em empresas tradicionais. Talvez por pensar muito, criticar muito, criar muito, idealizar muito, automatizar muito, planejar muito e querer muito mudar o jeito como as coisas são feitas lá fora.</p><p><br></p><p>Apesar de termos as personalidades e habilidades mais divergentes, temos duas coisas em comum: somos todos desajustados e inconformados. Com sede, ou melhor, fome de fazer diferente.</p><p><br></p><p>A gente tá aqui pra revolucionar o modo de fazer delivery!</p>', 'companyDescriptionTitle': 'FOME DE QUÊ? FOME DE MUDANÇA! 💪💜', 'sections': [{'type': 'about_company_section', 'about': '<p>Atenção! Você tá entrando no território sagrado dos desajustados: aqueles que nunca tiveram espaço em empresas tradicionais. Talvez por pensar muito, criticar muito, criar muito, idealizar muito, automatizar muito, planejar muito e querer muito mudar o jeito como as coisas são feitas lá fora.</p><p><br></p><p>Apesar de termos as personalidades e habilidades mais divergentes, temos duas coisas em comum: somos todos desajustados e inconformados. Com sede, ou melhor, fome de fazer diferente.</p><p><br></p><p>A gente tá aqui pra revolucionar o modo de fazer delivery!</p>', 'companyDescriptionTitle': 'FOME DE QUÊ? FOME DE MUDANÇA! 💪💜'}, {'type': 'text_with_images_section', 'title': '', 'description': '', 'urlInstitutionalImageTotalToShow': 3, 'urlInstitutionalImage1': 'https://s3.amazonaws.com/gupy5/production/companies/343/career/277/images/2020-06-08_13-29_institutionalImage1.jpg', 'urlInstitutionalImage2': 'https://s3.amazonaws.com/gupy5/production/companies/343/career/277/images/2020-06-08_13-35_institutionalImage2.jpg', 'urlInstitutionalImage3': 'https://s3.amazonaws.com/gupy5/production/companies/343/career/277/images/2020-06-08_13-29_institutionalImage3.jpg'}, {'type': 'job_listing_section', 'title': 'QUER TRAMPAR COM A GENTE? 💼💜', 'description': ''}, {'type': 'testimony_section', 'data': [{'header': {'title': 'O QUE OS FOMINHAS DIZEM 🍕💜', 'description': ''}, 'list': []}]}, {'type': 'testimony_section', 'data': [{'header': {'title': 'O QUE OS FOMERS DIZEM 🍔💜', 'description': ''}, 'list': []}]}, {'type': 'social_links_section', 'sectionTitle': 'QUEM, NÓIS? 👻', 'urlSite': 'https://www.aiqfome.com', 'urlLinkedin': 'https://www.linkedin.com/company/aiqfome', 'urlFacebook': 'https://www.facebook.com/aiqfome', 'urlInstagram': 'https://www.instagram.com/aiqfome'}, {'type': 'video_section', 'urls': ['https://www.youtube.com/watch?v=dD76Nqsx9Gs'], 'title': 'AIQOFFICE 🏡🌈💜', 'description': ''}, {'type': 'video_section', 'urls': ['https://www.youtube.com/watch?v=-kFYuWcGSyw'], 'title': 'AIQOFFICE 🏡🌈💜', 'description': ''}], 'hasFriendlyBadge': True, 'companyIntegrations': {'data': {'gaTrackingCode': ''}}}\n"
     ]
    }
   ],
   "source": [
    "import requests\n",
    "import json\n",
    "\n",
    "from bs4 import BeautifulSoup\n",
    "\n",
    "url = \"https://aiqfome.gupy.io\"\n",
    "\n",
    "r = requests.get(url)\n",
    "soup = BeautifulSoup(r.content, \"html.parser\")\n",
    "script = soup.find(\"script\", {\"id\":\"__NEXT_DATA__\"}).text\n",
    "\n",
    "json_data = json.loads(script)\n",
    "\n",
    "data = json_data.get('props').get('pageProps').get('careerPage')\n",
    "\n",
    "print(data)\n",
    "                                \n",
    "                            "
   ]
  },
  {
   "cell_type": "code",
   "execution_count": 85,
   "id": "524ef3b6",
   "metadata": {},
   "outputs": [],
   "source": [
    "logo_bin = requests.get(data.get(\"urlLogo\")).content"
   ]
  },
  {
   "cell_type": "code",
   "execution_count": 86,
   "id": "02131e99",
   "metadata": {},
   "outputs": [],
   "source": [
    "urls = [section for section in data.get(\n",
    "            'sections') if section['type'] == \"social_links_section\"]"
   ]
  },
  {
   "cell_type": "code",
   "execution_count": 88,
   "id": "52843b32",
   "metadata": {},
   "outputs": [
    {
     "data": {
      "text/plain": [
       "[{'type': 'social_links_section',\n",
       "  'sectionTitle': 'QUEM, NÓIS? 👻',\n",
       "  'urlSite': 'https://www.aiqfome.com',\n",
       "  'urlLinkedin': 'https://www.linkedin.com/company/aiqfome',\n",
       "  'urlFacebook': 'https://www.facebook.com/aiqfome',\n",
       "  'urlInstagram': 'https://www.instagram.com/aiqfome'}]"
      ]
     },
     "execution_count": 88,
     "metadata": {},
     "output_type": "execute_result"
    }
   ],
   "source": [
    "urls"
   ]
  },
  {
   "cell_type": "code",
   "execution_count": 87,
   "id": "fc403065",
   "metadata": {},
   "outputs": [
    {
     "ename": "AttributeError",
     "evalue": "'list' object has no attribute 'get'",
     "output_type": "error",
     "traceback": [
      "\u001b[0;31m---------------------------------------------------------------------------\u001b[0m",
      "\u001b[0;31mAttributeError\u001b[0m                            Traceback (most recent call last)",
      "Input \u001b[0;32mIn [87]\u001b[0m, in \u001b[0;36m<cell line: 1>\u001b[0;34m()\u001b[0m\n\u001b[0;32m----> 1\u001b[0m website \u001b[38;5;241m=\u001b[39m \u001b[43murls\u001b[49m\u001b[38;5;241;43m.\u001b[39;49m\u001b[43mget\u001b[49m(\u001b[38;5;124m'\u001b[39m\u001b[38;5;124murlSite\u001b[39m\u001b[38;5;124m'\u001b[39m) \u001b[38;5;28;01mif\u001b[39;00m \u001b[38;5;28mlen\u001b[39m(urls) \u001b[38;5;241m>\u001b[39m \u001b[38;5;241m0\u001b[39m \u001b[38;5;129;01mand\u001b[39;00m urls[\u001b[38;5;241m0\u001b[39m]\u001b[38;5;241m.\u001b[39mget(\u001b[38;5;124m'\u001b[39m\u001b[38;5;124murlSite\u001b[39m\u001b[38;5;124m'\u001b[39m) \u001b[38;5;28;01melse\u001b[39;00m \u001b[38;5;28;01mNone\u001b[39;00m\n\u001b[1;32m      2\u001b[0m \u001b[38;5;28mprint\u001b[39m(website)\n\u001b[1;32m      4\u001b[0m linkedin \u001b[38;5;241m=\u001b[39m urls\u001b[38;5;241m.\u001b[39mget(\u001b[38;5;124m'\u001b[39m\u001b[38;5;124murlLinkedin\u001b[39m\u001b[38;5;124m'\u001b[39m) \u001b[38;5;28;01mif\u001b[39;00m \u001b[38;5;28mlen\u001b[39m(urls) \u001b[38;5;241m>\u001b[39m \u001b[38;5;241m0\u001b[39m \u001b[38;5;129;01mand\u001b[39;00m urls[\u001b[38;5;241m0\u001b[39m]\u001b[38;5;241m.\u001b[39mget(\u001b[38;5;124m'\u001b[39m\u001b[38;5;124murlLinkedin\u001b[39m\u001b[38;5;124m'\u001b[39m) \u001b[38;5;28;01melse\u001b[39;00m \u001b[38;5;28;01mNone\u001b[39;00m\n",
      "\u001b[0;31mAttributeError\u001b[0m: 'list' object has no attribute 'get'"
     ]
    }
   ],
   "source": [
    "website = urls[0].get('urlSite') if len(urls) > 0 and urls[0].get('urlSite') else None\n",
    "print(website)\n",
    "\n",
    "linkedin = urls[0].get('urlLinkedin') if len(urls) > 0 and urls[0].get('urlLinkedin') else None\n",
    "print(linkedin)\n",
    "\n",
    "glassdoor = urls[0].get('urlGlassdoor') if len(urls) > 0 and urls[0].get('urlGlassdoor') else None\n",
    "print(glassdoor)"
   ]
  },
  {
   "cell_type": "code",
   "execution_count": 64,
   "id": "18e5a6a1",
   "metadata": {},
   "outputs": [],
   "source": [
    "section_list = soup.find(\"ul\", {\"aria-label\": \"Lista de Vagas\"}).find_all(\"li\")\n",
    "job_urls_list = [li.find(\"a\", href=True)[\"href\"] for li in section_list]"
   ]
  },
  {
   "cell_type": "code",
   "execution_count": 74,
   "id": "f8881085",
   "metadata": {},
   "outputs": [],
   "source": [
    "section_list = bs.find(\"ul\", {\"aria-label\": \"Lista de Vagas\"})\n",
    "job_urls_list = [li.find(\"a\", href=True)[\"href\"] for li in section_list]"
   ]
  },
  {
   "cell_type": "code",
   "execution_count": 78,
   "id": "396e45c8",
   "metadata": {},
   "outputs": [
    {
     "data": {
      "text/plain": [
       "['/job/eyJzb3VyY2UiOiJndXB5X3B1YmxpY19wYWdlIiwiam9iSWQiOjM3MzM2ODF9?jobBoardSource=gupy_public_page',\n",
       " '/job/eyJzb3VyY2UiOiJndXB5X3B1YmxpY19wYWdlIiwiam9iSWQiOjM3NjYxMTd9?jobBoardSource=gupy_public_page',\n",
       " '/job/eyJzb3VyY2UiOiJndXB5X3B1YmxpY19wYWdlIiwiam9iSWQiOjI1OTM3MTF9?jobBoardSource=gupy_public_page',\n",
       " '/job/eyJzb3VyY2UiOiJndXB5X3B1YmxpY19wYWdlIiwiam9iSWQiOjI1OTM2OTV9?jobBoardSource=gupy_public_page',\n",
       " '/job/eyJzb3VyY2UiOiJndXB5X3B1YmxpY19wYWdlIiwiam9iSWQiOjM1MjA5MDJ9?jobBoardSource=gupy_public_page',\n",
       " '/job/eyJzb3VyY2UiOiJndXB5X3B1YmxpY19wYWdlIiwiam9iSWQiOjMxNzIxMzR9?jobBoardSource=gupy_public_page',\n",
       " '/job/eyJzb3VyY2UiOiJndXB5X3B1YmxpY19wYWdlIiwiam9iSWQiOjMyNDI3MTF9?jobBoardSource=gupy_public_page',\n",
       " '/job/eyJzb3VyY2UiOiJndXB5X3B1YmxpY19wYWdlIiwiam9iSWQiOjMyMzIxNzN9?jobBoardSource=gupy_public_page',\n",
       " '/job/eyJzb3VyY2UiOiJndXB5X3B1YmxpY19wYWdlIiwiam9iSWQiOjI5OTIzNTZ9?jobBoardSource=gupy_public_page',\n",
       " '/job/eyJzb3VyY2UiOiJndXB5X3B1YmxpY19wYWdlIiwiam9iSWQiOjM4MjIxMzF9?jobBoardSource=gupy_public_page',\n",
       " '/job/eyJzb3VyY2UiOiJndXB5X3B1YmxpY19wYWdlIiwiam9iSWQiOjM0NzY1NzJ9?jobBoardSource=gupy_public_page',\n",
       " '/job/eyJzb3VyY2UiOiJndXB5X3B1YmxpY19wYWdlIiwiam9iSWQiOjM1MTI0ODJ9?jobBoardSource=gupy_public_page',\n",
       " '/job/eyJzb3VyY2UiOiJndXB5X3B1YmxpY19wYWdlIiwiam9iSWQiOjM4MzU5NTB9?jobBoardSource=gupy_public_page']"
      ]
     },
     "execution_count": 78,
     "metadata": {},
     "output_type": "execute_result"
    }
   ],
   "source": [
    "job_urls_list"
   ]
  },
  {
   "cell_type": "code",
   "execution_count": 81,
   "id": "35a4b957",
   "metadata": {},
   "outputs": [
    {
     "data": {
      "text/plain": [
       "[{'id': 3733681,\n",
       "  'title': 'Analista Fiscal ',\n",
       "  'type': 'vacancy_type_effective',\n",
       "  'department': 'Financeiro',\n",
       "  'workplace': {'address': {'city': 'São Carlos', 'state': 'SP'},\n",
       "   'remoteWorking': False}},\n",
       " {'id': 3766117,\n",
       "  'title': 'Assistente Comercial',\n",
       "  'type': 'vacancy_type_effective',\n",
       "  'department': 'Comercial',\n",
       "  'workplace': {'address': {'city': 'São Carlos', 'state': 'SP'},\n",
       "   'remoteWorking': False}},\n",
       " {'id': 2593711,\n",
       "  'title': 'Banco de Talentos',\n",
       "  'type': 'vacancy_type_talent_pool',\n",
       "  'department': 'Banco de Talentos',\n",
       "  'workplace': {'address': {'city': 'São Carlos', 'state': 'SP'},\n",
       "   'remoteWorking': False}},\n",
       " {'id': 2593695,\n",
       "  'title': 'Banco de Talentos - Exclusivo PcD ♿',\n",
       "  'type': 'vacancy_type_effective',\n",
       "  'department': 'Banco de Talentos',\n",
       "  'workplace': {'address': {'city': 'São Carlos', 'state': 'SP'},\n",
       "   'remoteWorking': False}},\n",
       " {'id': 3520902,\n",
       "  'title': 'Coordenador de Produção',\n",
       "  'type': 'vacancy_type_effective',\n",
       "  'department': 'Operação',\n",
       "  'workplace': {'address': {'city': 'São Carlos', 'state': 'SP'},\n",
       "   'remoteWorking': False}},\n",
       " {'id': 3172134,\n",
       "  'title': 'Especialista de Custos',\n",
       "  'type': 'vacancy_type_effective',\n",
       "  'department': 'Financeiro',\n",
       "  'workplace': {'address': {'city': 'São Carlos', 'state': 'SP'},\n",
       "   'remoteWorking': False}},\n",
       " {'id': 3242711,\n",
       "  'title': 'Estágio de Inovação de Produto',\n",
       "  'type': 'vacancy_type_internship',\n",
       "  'department': 'Operação',\n",
       "  'workplace': {'address': {'city': 'São Carlos', 'state': 'SP'},\n",
       "   'remoteWorking': False}},\n",
       " {'id': 3232173,\n",
       "  'title': 'Estágio de Lean Manufacturing',\n",
       "  'type': 'vacancy_type_internship',\n",
       "  'department': 'Operação',\n",
       "  'workplace': {'address': {'city': 'São Carlos', 'state': 'SP'},\n",
       "   'remoteWorking': False}},\n",
       " {'id': 2992356,\n",
       "  'title': 'Estágio de Tecnologias de Marketing',\n",
       "  'type': 'vacancy_type_internship',\n",
       "  'department': 'Marketing',\n",
       "  'workplace': {'address': {'city': 'São Carlos', 'state': 'SP'},\n",
       "   'remoteWorking': False}},\n",
       " {'id': 3822131,\n",
       "  'title': 'Executivo de Vendas',\n",
       "  'type': 'vacancy_type_effective',\n",
       "  'department': 'Comercial',\n",
       "  'workplace': {'address': {'city': '', 'state': ''}, 'remoteWorking': False}},\n",
       " {'id': 3476572,\n",
       "  'title': 'Gerente Financeiro',\n",
       "  'type': 'vacancy_type_effective',\n",
       "  'department': 'Financeiro',\n",
       "  'workplace': {'address': {'city': 'São Carlos', 'state': 'SP'},\n",
       "   'remoteWorking': False}},\n",
       " {'id': 3512482,\n",
       "  'title': 'Projetista I',\n",
       "  'type': 'vacancy_type_effective',\n",
       "  'department': 'Engenharia',\n",
       "  'workplace': {'address': {'city': 'São Paulo', 'state': 'SP'},\n",
       "   'remoteWorking': False}},\n",
       " {'id': 3835950,\n",
       "  'title': 'Vendedor Interno',\n",
       "  'type': 'vacancy_type_effective',\n",
       "  'department': 'Comercial',\n",
       "  'workplace': {'address': {'city': 'São Carlos', 'state': 'SP'},\n",
       "   'remoteWorking': False}}]"
      ]
     },
     "execution_count": 81,
     "metadata": {},
     "output_type": "execute_result"
    }
   ],
   "source": [
    "job_list = json_data.get('props').get('pageProps').get('jobs')\n",
    "job_list"
   ]
  },
  {
   "cell_type": "code",
   "execution_count": 83,
   "id": "5617290a",
   "metadata": {},
   "outputs": [
    {
     "name": "stdout",
     "output_type": "stream",
     "text": [
      "Analista Fiscal \n",
      "False\n",
      "São Carlos\n",
      "Assistente Comercial\n",
      "False\n",
      "São Carlos\n",
      "Banco de Talentos\n",
      "False\n",
      "São Carlos\n",
      "Banco de Talentos - Exclusivo PcD ♿\n",
      "False\n",
      "São Carlos\n",
      "Coordenador de Produção\n",
      "False\n",
      "São Carlos\n",
      "Especialista de Custos\n",
      "False\n",
      "São Carlos\n",
      "Estágio de Inovação de Produto\n",
      "False\n",
      "São Carlos\n",
      "Estágio de Lean Manufacturing\n",
      "False\n",
      "São Carlos\n",
      "Estágio de Tecnologias de Marketing\n",
      "False\n",
      "São Carlos\n",
      "Executivo de Vendas\n",
      "False\n",
      "\n",
      "Gerente Financeiro\n",
      "False\n",
      "São Carlos\n",
      "Projetista I\n",
      "False\n",
      "São Paulo\n",
      "Vendedor Interno\n",
      "False\n",
      "São Carlos\n"
     ]
    }
   ],
   "source": [
    "for job, url in zip(job_list, job_urls_list):\n",
    "        role = job.get(\"title\")\n",
    "        print(role)\n",
    "        roleSplited = re.sub('[,.;@#?!/\\|&$)(-]+\\|*', ' ', role).lower().split()\n",
    "        remote_status = job.get(\"workplace\").get(\"remoteWorking\")\n",
    "        print(remote_status)\n",
    "        workplace = job.get(\"workplace\").get(\"address\").get(\"city\")\n",
    "        print(workplace)"
   ]
  },
  {
   "cell_type": "code",
   "execution_count": null,
   "id": "8e25804e",
   "metadata": {},
   "outputs": [],
   "source": []
  }
 ],
 "metadata": {
  "kernelspec": {
   "display_name": "Python 3 (ipykernel)",
   "language": "python",
   "name": "python3"
  },
  "language_info": {
   "codemirror_mode": {
    "name": "ipython",
    "version": 3
   },
   "file_extension": ".py",
   "mimetype": "text/x-python",
   "name": "python",
   "nbconvert_exporter": "python",
   "pygments_lexer": "ipython3",
   "version": "3.10.4"
  }
 },
 "nbformat": 4,
 "nbformat_minor": 5
}
